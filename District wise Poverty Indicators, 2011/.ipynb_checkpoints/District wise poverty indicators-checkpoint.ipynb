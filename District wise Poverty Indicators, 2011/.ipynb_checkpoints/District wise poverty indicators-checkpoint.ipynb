{
 "cells": [
  {
   "cell_type": "markdown",
   "metadata": {},
   "source": [
    "# DISTRICT WISE POVERTY INDICATORS, 2011"
   ]
  },
  {
   "cell_type": "code",
   "execution_count": 1,
   "metadata": {
    "collapsed": true
   },
   "outputs": [],
   "source": [
    "import pandas as pd\n",
    "import matplotlib.pyplot as plt\n",
    "import seaborn as sns\n",
    "from matplotlib import rcParams\n",
    "%matplotlib inline"
   ]
  },
  {
   "cell_type": "code",
   "execution_count": 2,
   "metadata": {
    "collapsed": true
   },
   "outputs": [],
   "source": [
    "df = pd.read_csv ('Dataset/District wise Poverty Indicators, 2011.csv')"
   ]
  },
  {
   "cell_type": "code",
   "execution_count": 3,
   "metadata": {},
   "outputs": [
    {
     "data": {
      "text/html": [
       "<div>\n",
       "<style>\n",
       "    .dataframe thead tr:only-child th {\n",
       "        text-align: right;\n",
       "    }\n",
       "\n",
       "    .dataframe thead th {\n",
       "        text-align: left;\n",
       "    }\n",
       "\n",
       "    .dataframe tbody tr th {\n",
       "        vertical-align: top;\n",
       "    }\n",
       "</style>\n",
       "<table border=\"1\" class=\"dataframe\">\n",
       "  <thead>\n",
       "    <tr style=\"text-align: right;\">\n",
       "      <th></th>\n",
       "      <th>District Name</th>\n",
       "      <th>Zone</th>\n",
       "      <th>Geographical Region</th>\n",
       "      <th>Development Region</th>\n",
       "      <th>Measure Names</th>\n",
       "      <th>Unit</th>\n",
       "      <th>Measure Values</th>\n",
       "    </tr>\n",
       "  </thead>\n",
       "  <tbody>\n",
       "    <tr>\n",
       "      <th>0</th>\n",
       "      <td>Achham</td>\n",
       "      <td>Seti</td>\n",
       "      <td>Hill</td>\n",
       "      <td>Far-Western</td>\n",
       "      <td>Number of poor</td>\n",
       "      <td>69134</td>\n",
       "      <td>932.6534</td>\n",
       "    </tr>\n",
       "    <tr>\n",
       "      <th>1</th>\n",
       "      <td>Achham</td>\n",
       "      <td>Seti</td>\n",
       "      <td>Hill</td>\n",
       "      <td>Far-Western</td>\n",
       "      <td>Number of poor</td>\n",
       "      <td>69133</td>\n",
       "      <td>5247.3263</td>\n",
       "    </tr>\n",
       "    <tr>\n",
       "      <th>2</th>\n",
       "      <td>Achham</td>\n",
       "      <td>Seti</td>\n",
       "      <td>Hill</td>\n",
       "      <td>Far-Western</td>\n",
       "      <td>Number of poor</td>\n",
       "      <td>69132</td>\n",
       "      <td>1408.1394</td>\n",
       "    </tr>\n",
       "    <tr>\n",
       "      <th>3</th>\n",
       "      <td>Achham</td>\n",
       "      <td>Seti</td>\n",
       "      <td>Hill</td>\n",
       "      <td>Far-Western</td>\n",
       "      <td>Number of poor</td>\n",
       "      <td>69131</td>\n",
       "      <td>2903.2647</td>\n",
       "    </tr>\n",
       "    <tr>\n",
       "      <th>4</th>\n",
       "      <td>Achham</td>\n",
       "      <td>Seti</td>\n",
       "      <td>Hill</td>\n",
       "      <td>Far-Western</td>\n",
       "      <td>Number of poor</td>\n",
       "      <td>69124</td>\n",
       "      <td>7611.8766</td>\n",
       "    </tr>\n",
       "  </tbody>\n",
       "</table>\n",
       "</div>"
      ],
      "text/plain": [
       "  District Name  Zone Geographical Region Development Region   Measure Names  \\\n",
       "0        Achham  Seti                Hill        Far-Western  Number of poor   \n",
       "1        Achham  Seti                Hill        Far-Western  Number of poor   \n",
       "2        Achham  Seti                Hill        Far-Western  Number of poor   \n",
       "3        Achham  Seti                Hill        Far-Western  Number of poor   \n",
       "4        Achham  Seti                Hill        Far-Western  Number of poor   \n",
       "\n",
       "    Unit  Measure Values  \n",
       "0  69134        932.6534  \n",
       "1  69133       5247.3263  \n",
       "2  69132       1408.1394  \n",
       "3  69131       2903.2647  \n",
       "4  69124       7611.8766  "
      ]
     },
     "execution_count": 3,
     "metadata": {},
     "output_type": "execute_result"
    }
   ],
   "source": [
    "df.head()"
   ]
  },
  {
   "cell_type": "code",
   "execution_count": 4,
   "metadata": {},
   "outputs": [
    {
     "data": {
      "text/plain": [
       "array(['Number of poor', 'Severity of poverty', 'Poverty gap',\n",
       "       'Percent of poor', 'Average per capita consumption (NR)'], dtype=object)"
      ]
     },
     "execution_count": 4,
     "metadata": {},
     "output_type": "execute_result"
    }
   ],
   "source": [
    "df['Measure Names'].unique()"
   ]
  },
  {
   "cell_type": "markdown",
   "metadata": {},
   "source": [
    "### Create a dataframe with only number of poor"
   ]
  },
  {
   "cell_type": "code",
   "execution_count": 5,
   "metadata": {
    "collapsed": true
   },
   "outputs": [],
   "source": [
    "poor_df = df[df['Measure Names'] == 'Number of poor']"
   ]
  },
  {
   "cell_type": "code",
   "execution_count": 6,
   "metadata": {},
   "outputs": [
    {
     "data": {
      "text/plain": [
       "array(['Number of poor'], dtype=object)"
      ]
     },
     "execution_count": 6,
     "metadata": {},
     "output_type": "execute_result"
    }
   ],
   "source": [
    "poor_df['Measure Names'].unique()"
   ]
  },
  {
   "cell_type": "markdown",
   "metadata": {},
   "source": [
    "### Remove duplicates"
   ]
  },
  {
   "cell_type": "code",
   "execution_count": 7,
   "metadata": {
    "collapsed": true
   },
   "outputs": [],
   "source": [
    "poor_df = poor_df.drop_duplicates('District Name')"
   ]
  },
  {
   "cell_type": "code",
   "execution_count": 8,
   "metadata": {
    "collapsed": true
   },
   "outputs": [],
   "source": [
    "central_df = poor_df[poor_df['Development Region'] == 'Central']\n",
    "far_western_df = poor_df[poor_df['Development Region'] == 'Far-Western']\n",
    "western_df = poor_df[poor_df['Development Region'] == 'Western']\n",
    "mid_western_df = poor_df[poor_df['Development Region'] == 'Mid-Western']\n",
    "eastern_df = poor_df[poor_df['Development Region'] == 'Eastern']"
   ]
  },
  {
   "cell_type": "code",
   "execution_count": 9,
   "metadata": {},
   "outputs": [
    {
     "data": {
      "text/html": [
       "<div>\n",
       "<style>\n",
       "    .dataframe thead tr:only-child th {\n",
       "        text-align: right;\n",
       "    }\n",
       "\n",
       "    .dataframe thead th {\n",
       "        text-align: left;\n",
       "    }\n",
       "\n",
       "    .dataframe tbody tr th {\n",
       "        vertical-align: top;\n",
       "    }\n",
       "</style>\n",
       "<table border=\"1\" class=\"dataframe\">\n",
       "  <thead>\n",
       "    <tr style=\"text-align: right;\">\n",
       "      <th></th>\n",
       "      <th>District Name</th>\n",
       "      <th>Zone</th>\n",
       "      <th>Geographical Region</th>\n",
       "      <th>Development Region</th>\n",
       "      <th>Measure Names</th>\n",
       "      <th>Unit</th>\n",
       "      <th>Measure Values</th>\n",
       "    </tr>\n",
       "  </thead>\n",
       "  <tbody>\n",
       "    <tr>\n",
       "      <th>1140</th>\n",
       "      <td>Bara</td>\n",
       "      <td>Narayani</td>\n",
       "      <td>Terai</td>\n",
       "      <td>Central</td>\n",
       "      <td>Number of poor</td>\n",
       "      <td>33161</td>\n",
       "      <td>11875.7812</td>\n",
       "    </tr>\n",
       "    <tr>\n",
       "      <th>1475</th>\n",
       "      <td>Bhaktapur</td>\n",
       "      <td>Bagmati</td>\n",
       "      <td>Hill</td>\n",
       "      <td>Central</td>\n",
       "      <td>Number of poor</td>\n",
       "      <td>26112</td>\n",
       "      <td>10236.3702</td>\n",
       "    </tr>\n",
       "    <tr>\n",
       "      <th>1685</th>\n",
       "      <td>Chitawan</td>\n",
       "      <td>Narayani</td>\n",
       "      <td>Terai</td>\n",
       "      <td>Central</td>\n",
       "      <td>Number of poor</td>\n",
       "      <td>35141</td>\n",
       "      <td>3929.2569</td>\n",
       "    </tr>\n",
       "    <tr>\n",
       "      <th>2330</th>\n",
       "      <td>Dhading</td>\n",
       "      <td>Bagmati</td>\n",
       "      <td>Hill</td>\n",
       "      <td>Central</td>\n",
       "      <td>Number of poor</td>\n",
       "      <td>30134</td>\n",
       "      <td>3223.8272</td>\n",
       "    </tr>\n",
       "    <tr>\n",
       "      <th>2645</th>\n",
       "      <td>Dhanusa</td>\n",
       "      <td>Janakpur</td>\n",
       "      <td>Terai</td>\n",
       "      <td>Central</td>\n",
       "      <td>Number of poor</td>\n",
       "      <td>17181</td>\n",
       "      <td>14607.2432</td>\n",
       "    </tr>\n",
       "    <tr>\n",
       "      <th>2955</th>\n",
       "      <td>Dolakha</td>\n",
       "      <td>Janakpur</td>\n",
       "      <td>Mountain</td>\n",
       "      <td>Central</td>\n",
       "      <td>Number of poor</td>\n",
       "      <td>22121</td>\n",
       "      <td>1750.5070</td>\n",
       "    </tr>\n",
       "    <tr>\n",
       "      <th>4985</th>\n",
       "      <td>Kathmandu</td>\n",
       "      <td>Bagmati</td>\n",
       "      <td>Hill</td>\n",
       "      <td>Central</td>\n",
       "      <td>Number of poor</td>\n",
       "      <td>27174</td>\n",
       "      <td>8326.5657</td>\n",
       "    </tr>\n",
       "    <tr>\n",
       "      <th>5190</th>\n",
       "      <td>Kavre</td>\n",
       "      <td>Bagmati</td>\n",
       "      <td>Hill</td>\n",
       "      <td>Central</td>\n",
       "      <td>Number of poor</td>\n",
       "      <td>24181</td>\n",
       "      <td>1045.0756</td>\n",
       "    </tr>\n",
       "    <tr>\n",
       "      <th>5640</th>\n",
       "      <td>Lalitpur</td>\n",
       "      <td>Bagmati</td>\n",
       "      <td>Hill</td>\n",
       "      <td>Central</td>\n",
       "      <td>Number of poor</td>\n",
       "      <td>25143</td>\n",
       "      <td>20595.7440</td>\n",
       "    </tr>\n",
       "    <tr>\n",
       "      <th>5980</th>\n",
       "      <td>Mahottari</td>\n",
       "      <td>Janakpur</td>\n",
       "      <td>Terai</td>\n",
       "      <td>Central</td>\n",
       "      <td>Number of poor</td>\n",
       "      <td>18161</td>\n",
       "      <td>3735.9258</td>\n",
       "    </tr>\n",
       "    <tr>\n",
       "      <th>6200</th>\n",
       "      <td>Makwanpur</td>\n",
       "      <td>Narayani</td>\n",
       "      <td>Hill</td>\n",
       "      <td>Central</td>\n",
       "      <td>Number of poor</td>\n",
       "      <td>31141</td>\n",
       "      <td>5081.5005</td>\n",
       "    </tr>\n",
       "    <tr>\n",
       "      <th>7155</th>\n",
       "      <td>Nuwakot</td>\n",
       "      <td>Bagmati</td>\n",
       "      <td>Hill</td>\n",
       "      <td>Central</td>\n",
       "      <td>Number of poor</td>\n",
       "      <td>28141</td>\n",
       "      <td>1575.7048</td>\n",
       "    </tr>\n",
       "    <tr>\n",
       "      <th>7975</th>\n",
       "      <td>Parsa</td>\n",
       "      <td>Narayani</td>\n",
       "      <td>Terai</td>\n",
       "      <td>Central</td>\n",
       "      <td>Number of poor</td>\n",
       "      <td>34154</td>\n",
       "      <td>786.3656</td>\n",
       "    </tr>\n",
       "    <tr>\n",
       "      <th>8420</th>\n",
       "      <td>Ramechhap</td>\n",
       "      <td>Janakpur</td>\n",
       "      <td>Hill</td>\n",
       "      <td>Central</td>\n",
       "      <td>Number of poor</td>\n",
       "      <td>21113</td>\n",
       "      <td>627.5724</td>\n",
       "    </tr>\n",
       "    <tr>\n",
       "      <th>8595</th>\n",
       "      <td>Rasuwa</td>\n",
       "      <td>Bagmati</td>\n",
       "      <td>Mountain</td>\n",
       "      <td>Central</td>\n",
       "      <td>Number of poor</td>\n",
       "      <td>29091</td>\n",
       "      <td>503.8068</td>\n",
       "    </tr>\n",
       "    <tr>\n",
       "      <th>8640</th>\n",
       "      <td>Rautahat</td>\n",
       "      <td>Narayani</td>\n",
       "      <td>Terai</td>\n",
       "      <td>Central</td>\n",
       "      <td>Number of poor</td>\n",
       "      <td>32161</td>\n",
       "      <td>7588.8592</td>\n",
       "    </tr>\n",
       "    <tr>\n",
       "      <th>9835</th>\n",
       "      <td>Sarlahi</td>\n",
       "      <td>Janakpur</td>\n",
       "      <td>Terai</td>\n",
       "      <td>Central</td>\n",
       "      <td>Number of poor</td>\n",
       "      <td>19181</td>\n",
       "      <td>3246.9705</td>\n",
       "    </tr>\n",
       "    <tr>\n",
       "      <th>10165</th>\n",
       "      <td>Sindhuli</td>\n",
       "      <td>Janakpur</td>\n",
       "      <td>Hill</td>\n",
       "      <td>Central</td>\n",
       "      <td>Number of poor</td>\n",
       "      <td>20141</td>\n",
       "      <td>7364.8200</td>\n",
       "    </tr>\n",
       "    <tr>\n",
       "      <th>10315</th>\n",
       "      <td>Sindhupalchok</td>\n",
       "      <td>Bagmati</td>\n",
       "      <td>Mountain</td>\n",
       "      <td>Central</td>\n",
       "      <td>Number of poor</td>\n",
       "      <td>23131</td>\n",
       "      <td>5526.2610</td>\n",
       "    </tr>\n",
       "  </tbody>\n",
       "</table>\n",
       "</div>"
      ],
      "text/plain": [
       "       District Name      Zone Geographical Region Development Region  \\\n",
       "1140            Bara  Narayani               Terai            Central   \n",
       "1475       Bhaktapur   Bagmati                Hill            Central   \n",
       "1685        Chitawan  Narayani               Terai            Central   \n",
       "2330         Dhading   Bagmati                Hill            Central   \n",
       "2645         Dhanusa  Janakpur               Terai            Central   \n",
       "2955         Dolakha  Janakpur            Mountain            Central   \n",
       "4985       Kathmandu   Bagmati                Hill            Central   \n",
       "5190           Kavre   Bagmati                Hill            Central   \n",
       "5640        Lalitpur   Bagmati                Hill            Central   \n",
       "5980       Mahottari  Janakpur               Terai            Central   \n",
       "6200       Makwanpur  Narayani                Hill            Central   \n",
       "7155         Nuwakot   Bagmati                Hill            Central   \n",
       "7975           Parsa  Narayani               Terai            Central   \n",
       "8420       Ramechhap  Janakpur                Hill            Central   \n",
       "8595          Rasuwa   Bagmati            Mountain            Central   \n",
       "8640        Rautahat  Narayani               Terai            Central   \n",
       "9835         Sarlahi  Janakpur               Terai            Central   \n",
       "10165       Sindhuli  Janakpur                Hill            Central   \n",
       "10315  Sindhupalchok   Bagmati            Mountain            Central   \n",
       "\n",
       "        Measure Names   Unit  Measure Values  \n",
       "1140   Number of poor  33161      11875.7812  \n",
       "1475   Number of poor  26112      10236.3702  \n",
       "1685   Number of poor  35141       3929.2569  \n",
       "2330   Number of poor  30134       3223.8272  \n",
       "2645   Number of poor  17181      14607.2432  \n",
       "2955   Number of poor  22121       1750.5070  \n",
       "4985   Number of poor  27174       8326.5657  \n",
       "5190   Number of poor  24181       1045.0756  \n",
       "5640   Number of poor  25143      20595.7440  \n",
       "5980   Number of poor  18161       3735.9258  \n",
       "6200   Number of poor  31141       5081.5005  \n",
       "7155   Number of poor  28141       1575.7048  \n",
       "7975   Number of poor  34154        786.3656  \n",
       "8420   Number of poor  21113        627.5724  \n",
       "8595   Number of poor  29091        503.8068  \n",
       "8640   Number of poor  32161       7588.8592  \n",
       "9835   Number of poor  19181       3246.9705  \n",
       "10165  Number of poor  20141       7364.8200  \n",
       "10315  Number of poor  23131       5526.2610  "
      ]
     },
     "execution_count": 9,
     "metadata": {},
     "output_type": "execute_result"
    }
   ],
   "source": [
    "central_df"
   ]
  },
  {
   "cell_type": "code",
   "execution_count": 10,
   "metadata": {},
   "outputs": [
    {
     "data": {
      "image/png": "[encoded data removed]",
      "text/plain": [
       "<matplotlib.figure.Figure at 0x29d25961ac8>"
      ]
     },
     "metadata": {},
     "output_type": "display_data"
    }
   ],
   "source": [
    "plt.figure(figsize=(28,10))\n",
    "sns.set_context('poster',font_scale=1)\n",
    "sns_plot = sns.barplot(x='District Name',y='Measure Values',data=central_df)\n",
    "plt.title('No. of poor')\n",
    "plt.xlabel('Districts')\n",
    "plt.ylabel('Measure Values')\n",
    "plt.tight_layout()"
   ]
  },
  {
   "cell_type": "code",
   "execution_count": 11,
   "metadata": {
    "collapsed": true
   },
   "outputs": [],
   "source": [
    "fig =sns_plot.get_figure()\n",
    "fig.savefig('Charts/Number of poor in Central Development Region.png',dpi=500)"
   ]
  },
  {
   "cell_type": "code",
   "execution_count": null,
   "metadata": {
    "collapsed": true
   },
   "outputs": [],
   "source": []
  },
  {
   "cell_type": "code",
   "execution_count": null,
   "metadata": {
    "collapsed": true
   },
   "outputs": [],
   "source": []
  },
  {
   "cell_type": "code",
   "execution_count": null,
   "metadata": {
    "collapsed": true
   },
   "outputs": [],
   "source": []
  }
 ],
 "metadata": {
  "kernelspec": {
   "display_name": "Python 3",
   "language": "python",
   "name": "python3"
  },
  "language_info": {
   "codemirror_mode": {
    "name": "ipython",
    "version": 3
   },
   "file_extension": ".py",
   "mimetype": "text/x-python",
   "name": "python",
   "nbconvert_exporter": "python",
   "pygments_lexer": "ipython3",
   "version": "3.5.4"
  }
 },
 "nbformat": 4,
 "nbformat_minor": 2
}
