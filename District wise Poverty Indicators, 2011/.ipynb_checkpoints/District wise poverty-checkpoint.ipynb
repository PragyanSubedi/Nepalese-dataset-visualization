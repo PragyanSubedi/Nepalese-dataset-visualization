{
 "cells": [
  {
   "cell_type": "markdown",
   "metadata": {},
   "source": [
    "# DISTRICT WISE POVERTY 2011"
   ]
  },
  {
   "cell_type": "code",
   "execution_count": 57,
   "metadata": {},
   "outputs": [],
   "source": [
    "import pandas as pd\n",
    "import matplotlib.pyplot as plt\n",
    "import seaborn as sns\n",
    "from matplotlib import rcParams\n",
    "%matplotlib inline"
   ]
  },
  {
   "cell_type": "code",
   "execution_count": 3,
   "metadata": {},
   "outputs": [],
   "source": [
    "df = pd.read_csv ('Datasets/District wise Poverty Indicators, 2011.csv')"
   ]
  },
  {
   "cell_type": "code",
   "execution_count": 4,
   "metadata": {},
   "outputs": [
    {
     "data": {
      "text/plain": [
       "array(['Far-Western', 'Western', 'Mid-Western', 'Central', 'Eastern'], dtype=object)"
      ]
     },
     "execution_count": 4,
     "metadata": {},
     "output_type": "execute_result"
    }
   ],
   "source": [
    "df['Development Region'].unique()"
   ]
  },
  {
   "cell_type": "code",
   "execution_count": 5,
   "metadata": {},
   "outputs": [
    {
     "data": {
      "text/html": [
       "<div>\n",
       "<style>\n",
       "    .dataframe thead tr:only-child th {\n",
       "        text-align: right;\n",
       "    }\n",
       "\n",
       "    .dataframe thead th {\n",
       "        text-align: left;\n",
       "    }\n",
       "\n",
       "    .dataframe tbody tr th {\n",
       "        vertical-align: top;\n",
       "    }\n",
       "</style>\n",
       "<table border=\"1\" class=\"dataframe\">\n",
       "  <thead>\n",
       "    <tr style=\"text-align: right;\">\n",
       "      <th></th>\n",
       "      <th>District Name</th>\n",
       "      <th>Zone</th>\n",
       "      <th>Geographical Region</th>\n",
       "      <th>Development Region</th>\n",
       "      <th>Measure Names</th>\n",
       "      <th>Unit</th>\n",
       "      <th>Measure Values</th>\n",
       "    </tr>\n",
       "  </thead>\n",
       "  <tbody>\n",
       "    <tr>\n",
       "      <th>0</th>\n",
       "      <td>Achham</td>\n",
       "      <td>Seti</td>\n",
       "      <td>Hill</td>\n",
       "      <td>Far-Western</td>\n",
       "      <td>Number of poor</td>\n",
       "      <td>69134</td>\n",
       "      <td>932.6534</td>\n",
       "    </tr>\n",
       "    <tr>\n",
       "      <th>1</th>\n",
       "      <td>Achham</td>\n",
       "      <td>Seti</td>\n",
       "      <td>Hill</td>\n",
       "      <td>Far-Western</td>\n",
       "      <td>Number of poor</td>\n",
       "      <td>69133</td>\n",
       "      <td>5247.3263</td>\n",
       "    </tr>\n",
       "    <tr>\n",
       "      <th>2</th>\n",
       "      <td>Achham</td>\n",
       "      <td>Seti</td>\n",
       "      <td>Hill</td>\n",
       "      <td>Far-Western</td>\n",
       "      <td>Number of poor</td>\n",
       "      <td>69132</td>\n",
       "      <td>1408.1394</td>\n",
       "    </tr>\n",
       "    <tr>\n",
       "      <th>3</th>\n",
       "      <td>Achham</td>\n",
       "      <td>Seti</td>\n",
       "      <td>Hill</td>\n",
       "      <td>Far-Western</td>\n",
       "      <td>Number of poor</td>\n",
       "      <td>69131</td>\n",
       "      <td>2903.2647</td>\n",
       "    </tr>\n",
       "    <tr>\n",
       "      <th>4</th>\n",
       "      <td>Achham</td>\n",
       "      <td>Seti</td>\n",
       "      <td>Hill</td>\n",
       "      <td>Far-Western</td>\n",
       "      <td>Number of poor</td>\n",
       "      <td>69124</td>\n",
       "      <td>7611.8766</td>\n",
       "    </tr>\n",
       "    <tr>\n",
       "      <th>5</th>\n",
       "      <td>Achham</td>\n",
       "      <td>Seti</td>\n",
       "      <td>Hill</td>\n",
       "      <td>Far-Western</td>\n",
       "      <td>Number of poor</td>\n",
       "      <td>69123</td>\n",
       "      <td>2606.7704</td>\n",
       "    </tr>\n",
       "    <tr>\n",
       "      <th>6</th>\n",
       "      <td>Achham</td>\n",
       "      <td>Seti</td>\n",
       "      <td>Hill</td>\n",
       "      <td>Far-Western</td>\n",
       "      <td>Number of poor</td>\n",
       "      <td>69122</td>\n",
       "      <td>1162.8708</td>\n",
       "    </tr>\n",
       "    <tr>\n",
       "      <th>7</th>\n",
       "      <td>Achham</td>\n",
       "      <td>Seti</td>\n",
       "      <td>Hill</td>\n",
       "      <td>Far-Western</td>\n",
       "      <td>Number of poor</td>\n",
       "      <td>69121</td>\n",
       "      <td>2228.6270</td>\n",
       "    </tr>\n",
       "    <tr>\n",
       "      <th>8</th>\n",
       "      <td>Achham</td>\n",
       "      <td>Seti</td>\n",
       "      <td>Hill</td>\n",
       "      <td>Far-Western</td>\n",
       "      <td>Number of poor</td>\n",
       "      <td>69113</td>\n",
       "      <td>654.3328</td>\n",
       "    </tr>\n",
       "    <tr>\n",
       "      <th>9</th>\n",
       "      <td>Achham</td>\n",
       "      <td>Seti</td>\n",
       "      <td>Hill</td>\n",
       "      <td>Far-Western</td>\n",
       "      <td>Number of poor</td>\n",
       "      <td>69112</td>\n",
       "      <td>3499.1910</td>\n",
       "    </tr>\n",
       "  </tbody>\n",
       "</table>\n",
       "</div>"
      ],
      "text/plain": [
       "  District Name  Zone Geographical Region Development Region   Measure Names  \\\n",
       "0        Achham  Seti                Hill        Far-Western  Number of poor   \n",
       "1        Achham  Seti                Hill        Far-Western  Number of poor   \n",
       "2        Achham  Seti                Hill        Far-Western  Number of poor   \n",
       "3        Achham  Seti                Hill        Far-Western  Number of poor   \n",
       "4        Achham  Seti                Hill        Far-Western  Number of poor   \n",
       "5        Achham  Seti                Hill        Far-Western  Number of poor   \n",
       "6        Achham  Seti                Hill        Far-Western  Number of poor   \n",
       "7        Achham  Seti                Hill        Far-Western  Number of poor   \n",
       "8        Achham  Seti                Hill        Far-Western  Number of poor   \n",
       "9        Achham  Seti                Hill        Far-Western  Number of poor   \n",
       "\n",
       "    Unit  Measure Values  \n",
       "0  69134        932.6534  \n",
       "1  69133       5247.3263  \n",
       "2  69132       1408.1394  \n",
       "3  69131       2903.2647  \n",
       "4  69124       7611.8766  \n",
       "5  69123       2606.7704  \n",
       "6  69122       1162.8708  \n",
       "7  69121       2228.6270  \n",
       "8  69113        654.3328  \n",
       "9  69112       3499.1910  "
      ]
     },
     "execution_count": 5,
     "metadata": {},
     "output_type": "execute_result"
    }
   ],
   "source": [
    "df[:10]"
   ]
  },
  {
   "cell_type": "code",
   "execution_count": 6,
   "metadata": {},
   "outputs": [
    {
     "data": {
      "text/plain": [
       "array(['Number of poor', 'Severity of poverty', 'Poverty gap',\n",
       "       'Percent of poor', 'Average per capita consumption (NR)'], dtype=object)"
      ]
     },
     "execution_count": 6,
     "metadata": {},
     "output_type": "execute_result"
    }
   ],
   "source": [
    "df['Measure Names'].unique()"
   ]
  },
  {
   "cell_type": "markdown",
   "metadata": {},
   "source": [
    "### Create a dataframe with only number of poor"
   ]
  },
  {
   "cell_type": "code",
   "execution_count": 7,
   "metadata": {},
   "outputs": [],
   "source": [
    "poor_df = df[df['Measure Names'] == 'Number of poor']"
   ]
  },
  {
   "cell_type": "code",
   "execution_count": 8,
   "metadata": {},
   "outputs": [
    {
     "data": {
      "text/plain": [
       "array(['Number of poor'], dtype=object)"
      ]
     },
     "execution_count": 8,
     "metadata": {},
     "output_type": "execute_result"
    }
   ],
   "source": [
    "poor_df['Measure Names'].unique()"
   ]
  },
  {
   "cell_type": "markdown",
   "metadata": {},
   "source": [
    "### Remove duplicates"
   ]
  },
  {
   "cell_type": "code",
   "execution_count": 9,
   "metadata": {},
   "outputs": [],
   "source": [
    "poor_df = poor_df.drop_duplicates('District Name')"
   ]
  },
  {
   "cell_type": "code",
   "execution_count": 10,
   "metadata": {},
   "outputs": [],
   "source": [
    "central_df = poor_df[poor_df['Development Region'] == 'Central']\n",
    "far_western_df = poor_df[poor_df['Development Region'] == 'Far-Western']\n",
    "western_df = poor_df[poor_df['Development Region'] == 'Western']\n",
    "mid_western_df = poor_df[poor_df['Development Region'] == 'Mid-Western']\n",
    "eastern_df = poor_df[poor_df['Development Region'] == 'Eastern']"
   ]
  },
  {
   "cell_type": "code",
   "execution_count": 11,
   "metadata": {},
   "outputs": [
    {
     "data": {
      "text/html": [
       "<div>\n",
       "<style>\n",
       "    .dataframe thead tr:only-child th {\n",
       "        text-align: right;\n",
       "    }\n",
       "\n",
       "    .dataframe thead th {\n",
       "        text-align: left;\n",
       "    }\n",
       "\n",
       "    .dataframe tbody tr th {\n",
       "        vertical-align: top;\n",
       "    }\n",
       "</style>\n",
       "<table border=\"1\" class=\"dataframe\">\n",
       "  <thead>\n",
       "    <tr style=\"text-align: right;\">\n",
       "      <th></th>\n",
       "      <th>District Name</th>\n",
       "      <th>Zone</th>\n",
       "      <th>Geographical Region</th>\n",
       "      <th>Development Region</th>\n",
       "      <th>Measure Names</th>\n",
       "      <th>Unit</th>\n",
       "      <th>Measure Values</th>\n",
       "    </tr>\n",
       "  </thead>\n",
       "  <tbody>\n",
       "    <tr>\n",
       "      <th>1555</th>\n",
       "      <td>Bhojpur</td>\n",
       "      <td>Kosi</td>\n",
       "      <td>Hill</td>\n",
       "      <td>Eastern</td>\n",
       "      <td>Number of poor</td>\n",
       "      <td>10132</td>\n",
       "      <td>2517.4116</td>\n",
       "    </tr>\n",
       "    <tr>\n",
       "      <th>2520</th>\n",
       "      <td>Dhankuta</td>\n",
       "      <td>Kosi</td>\n",
       "      <td>Hill</td>\n",
       "      <td>Eastern</td>\n",
       "      <td>Number of poor</td>\n",
       "      <td>7121</td>\n",
       "      <td>2719.8811</td>\n",
       "    </tr>\n",
       "    <tr>\n",
       "      <th>3755</th>\n",
       "      <td>Ilam</td>\n",
       "      <td>Mechi</td>\n",
       "      <td>Hill</td>\n",
       "      <td>Eastern</td>\n",
       "      <td>Number of poor</td>\n",
       "      <td>3121</td>\n",
       "      <td>2087.2125</td>\n",
       "    </tr>\n",
       "    <tr>\n",
       "      <th>4015</th>\n",
       "      <td>Jhapa</td>\n",
       "      <td>Mechi</td>\n",
       "      <td>Terai</td>\n",
       "      <td>Eastern</td>\n",
       "      <td>Number of poor</td>\n",
       "      <td>4201</td>\n",
       "      <td>12790.6688</td>\n",
       "    </tr>\n",
       "    <tr>\n",
       "      <th>5505</th>\n",
       "      <td>Khotang</td>\n",
       "      <td>Sagarmatha</td>\n",
       "      <td>Hill</td>\n",
       "      <td>Eastern</td>\n",
       "      <td>Number of poor</td>\n",
       "      <td>13132</td>\n",
       "      <td>2195.4003</td>\n",
       "    </tr>\n",
       "    <tr>\n",
       "      <th>6390</th>\n",
       "      <td>Morang</td>\n",
       "      <td>Kosi</td>\n",
       "      <td>Terai</td>\n",
       "      <td>Eastern</td>\n",
       "      <td>Number of poor</td>\n",
       "      <td>5181</td>\n",
       "      <td>35124.3596</td>\n",
       "    </tr>\n",
       "    <tr>\n",
       "      <th>7345</th>\n",
       "      <td>Okhaldhunga</td>\n",
       "      <td>Sagarmatha</td>\n",
       "      <td>Hill</td>\n",
       "      <td>Eastern</td>\n",
       "      <td>Number of poor</td>\n",
       "      <td>12112</td>\n",
       "      <td>1001.9920</td>\n",
       "    </tr>\n",
       "    <tr>\n",
       "      <th>7650</th>\n",
       "      <td>Panchthar</td>\n",
       "      <td>Mechi</td>\n",
       "      <td>Hill</td>\n",
       "      <td>Eastern</td>\n",
       "      <td>Number of poor</td>\n",
       "      <td>2113</td>\n",
       "      <td>497.3245</td>\n",
       "    </tr>\n",
       "    <tr>\n",
       "      <th>9540</th>\n",
       "      <td>Sankhuwasabha</td>\n",
       "      <td>Kosi</td>\n",
       "      <td>Mountain</td>\n",
       "      <td>Eastern</td>\n",
       "      <td>Number of poor</td>\n",
       "      <td>9111</td>\n",
       "      <td>2506.4536</td>\n",
       "    </tr>\n",
       "    <tr>\n",
       "      <th>9595</th>\n",
       "      <td>Saptari</td>\n",
       "      <td>Sagarmatha</td>\n",
       "      <td>Terai</td>\n",
       "      <td>Eastern</td>\n",
       "      <td>Number of poor</td>\n",
       "      <td>15181</td>\n",
       "      <td>7986.9958</td>\n",
       "    </tr>\n",
       "    <tr>\n",
       "      <th>10380</th>\n",
       "      <td>Siraha</td>\n",
       "      <td>Sagarmatha</td>\n",
       "      <td>Terai</td>\n",
       "      <td>Eastern</td>\n",
       "      <td>Number of poor</td>\n",
       "      <td>16191</td>\n",
       "      <td>11972.0821</td>\n",
       "    </tr>\n",
       "    <tr>\n",
       "      <th>10620</th>\n",
       "      <td>Solukhumbu</td>\n",
       "      <td>Sagarmatha</td>\n",
       "      <td>Mountain</td>\n",
       "      <td>Eastern</td>\n",
       "      <td>Number of poor</td>\n",
       "      <td>11091</td>\n",
       "      <td>1167.6740</td>\n",
       "    </tr>\n",
       "    <tr>\n",
       "      <th>10665</th>\n",
       "      <td>Sunsari</td>\n",
       "      <td>Kosi</td>\n",
       "      <td>Terai</td>\n",
       "      <td>Eastern</td>\n",
       "      <td>Number of poor</td>\n",
       "      <td>6181</td>\n",
       "      <td>4888.2240</td>\n",
       "    </tr>\n",
       "    <tr>\n",
       "      <th>11420</th>\n",
       "      <td>Taplejung</td>\n",
       "      <td>Mechi</td>\n",
       "      <td>Mountain</td>\n",
       "      <td>Eastern</td>\n",
       "      <td>Number of poor</td>\n",
       "      <td>1111</td>\n",
       "      <td>5498.0352</td>\n",
       "    </tr>\n",
       "    <tr>\n",
       "      <th>11475</th>\n",
       "      <td>Terhathum</td>\n",
       "      <td>Kosi</td>\n",
       "      <td>Hill</td>\n",
       "      <td>Eastern</td>\n",
       "      <td>Number of poor</td>\n",
       "      <td>8112</td>\n",
       "      <td>662.0475</td>\n",
       "    </tr>\n",
       "    <tr>\n",
       "      <th>11585</th>\n",
       "      <td>Udayapur</td>\n",
       "      <td>Sagarmatha</td>\n",
       "      <td>Hill</td>\n",
       "      <td>Eastern</td>\n",
       "      <td>Number of poor</td>\n",
       "      <td>14121</td>\n",
       "      <td>11412.3838</td>\n",
       "    </tr>\n",
       "  </tbody>\n",
       "</table>\n",
       "</div>"
      ],
      "text/plain": [
       "       District Name        Zone Geographical Region Development Region  \\\n",
       "1555         Bhojpur        Kosi                Hill            Eastern   \n",
       "2520        Dhankuta        Kosi                Hill            Eastern   \n",
       "3755            Ilam       Mechi                Hill            Eastern   \n",
       "4015           Jhapa       Mechi               Terai            Eastern   \n",
       "5505         Khotang  Sagarmatha                Hill            Eastern   \n",
       "6390          Morang        Kosi               Terai            Eastern   \n",
       "7345     Okhaldhunga  Sagarmatha                Hill            Eastern   \n",
       "7650       Panchthar       Mechi                Hill            Eastern   \n",
       "9540   Sankhuwasabha        Kosi            Mountain            Eastern   \n",
       "9595         Saptari  Sagarmatha               Terai            Eastern   \n",
       "10380         Siraha  Sagarmatha               Terai            Eastern   \n",
       "10620     Solukhumbu  Sagarmatha            Mountain            Eastern   \n",
       "10665        Sunsari        Kosi               Terai            Eastern   \n",
       "11420      Taplejung       Mechi            Mountain            Eastern   \n",
       "11475      Terhathum        Kosi                Hill            Eastern   \n",
       "11585       Udayapur  Sagarmatha                Hill            Eastern   \n",
       "\n",
       "        Measure Names   Unit  Measure Values  \n",
       "1555   Number of poor  10132       2517.4116  \n",
       "2520   Number of poor   7121       2719.8811  \n",
       "3755   Number of poor   3121       2087.2125  \n",
       "4015   Number of poor   4201      12790.6688  \n",
       "5505   Number of poor  13132       2195.4003  \n",
       "6390   Number of poor   5181      35124.3596  \n",
       "7345   Number of poor  12112       1001.9920  \n",
       "7650   Number of poor   2113        497.3245  \n",
       "9540   Number of poor   9111       2506.4536  \n",
       "9595   Number of poor  15181       7986.9958  \n",
       "10380  Number of poor  16191      11972.0821  \n",
       "10620  Number of poor  11091       1167.6740  \n",
       "10665  Number of poor   6181       4888.2240  \n",
       "11420  Number of poor   1111       5498.0352  \n",
       "11475  Number of poor   8112        662.0475  \n",
       "11585  Number of poor  14121      11412.3838  "
      ]
     },
     "execution_count": 11,
     "metadata": {},
     "output_type": "execute_result"
    }
   ],
   "source": [
    "eastern_df"
   ]
  },
  {
   "cell_type": "code",
   "execution_count": 71,
   "metadata": {},
   "outputs": [
    {
     "data": {
      "image/png": "[encoded data removed]",
      "text/plain": [
       "<matplotlib.figure.Figure at 0x1ed6d245dd8>"
      ]
     },
     "metadata": {},
     "output_type": "display_data"
    }
   ],
   "source": [
    "\n",
    "plt.figure(figsize = (28,5))\n",
    "sns.set_context('poster',font_scale=1,rc={\"lines.linewidth\": 2.5})\n",
    "sns_plot = sns.barplot(x='District Name',y='Measure Values',data=central_df)\n",
    "plt.title('Number of poor people in Central Development Region', fontsize=30)\n",
    "plt.xlabel('Districts',fontsize=20)\n",
    "plt.ylabel('No. of people',fontsize=20)\n",
    "plt.tight_layout()"
   ]
  },
  {
   "cell_type": "code",
   "execution_count": 13,
   "metadata": {},
   "outputs": [],
   "source": [
    "fig =sns_plot.get_figure()\n",
    "fig.savefig('Charts/Number of poor people in CDR.png',dpi=500)"
   ]
  },
  {
   "cell_type": "code",
   "execution_count": null,
   "metadata": {},
   "outputs": [],
   "source": []
  },
  {
   "cell_type": "code",
   "execution_count": null,
   "metadata": {},
   "outputs": [],
   "source": []
  },
  {
   "cell_type": "code",
   "execution_count": null,
   "metadata": {},
   "outputs": [],
   "source": []
  }
 ],
 "metadata": {
  "kernelspec": {
   "display_name": "Python 3",
   "language": "python",
   "name": "python3"
  },
  "language_info": {
   "codemirror_mode": {
    "name": "ipython",
    "version": 3
   },
   "file_extension": ".py",
   "mimetype": "text/x-python",
   "name": "python",
   "nbconvert_exporter": "python",
   "pygments_lexer": "ipython3",
   "version": "3.5.4"
  }
 },
 "nbformat": 4,
 "nbformat_minor": 2
}
